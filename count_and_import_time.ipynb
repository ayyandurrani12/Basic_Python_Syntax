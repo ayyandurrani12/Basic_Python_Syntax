{
  "nbformat": 4,
  "nbformat_minor": 0,
  "metadata": {
    "colab": {
      "provenance": [],
      "authorship_tag": "ABX9TyOIGiUdUsrtjBz/uTuTE70u",
      "include_colab_link": true
    },
    "kernelspec": {
      "name": "python3",
      "display_name": "Python 3"
    },
    "language_info": {
      "name": "python"
    }
  },
  "cells": [
    {
      "cell_type": "markdown",
      "metadata": {
        "id": "view-in-github",
        "colab_type": "text"
      },
      "source": [
        "<a href=\"https://colab.research.google.com/github/ayyandurrani12/Basic_Python_Syntax/blob/main/count_and_import_time.ipynb\" target=\"_parent\"><img src=\"https://colab.research.google.com/assets/colab-badge.svg\" alt=\"Open In Colab\"/></a>"
      ]
    },
    {
      "cell_type": "code",
      "execution_count": null,
      "metadata": {
        "colab": {
          "base_uri": "https://localhost:8080/"
        },
        "id": "yfYsGltyUqDn",
        "outputId": "77e58569-3416-42a9-9cfd-3d7d0251bda3"
      },
      "outputs": [
        {
          "output_type": "stream",
          "name": "stdout",
          "text": [
            "looping...5\n",
            "looping...6\n",
            "looping...7\n",
            "looping...8\n",
            "looping...9\n",
            "looping...10\n",
            "looping...11\n",
            "looping...12\n",
            "looping...13\n",
            "looping...14\n",
            "looping...15\n"
          ]
        }
      ],
      "source": [
        "\n",
        "count = 5\n",
        "while count <=15:\n",
        "  print(f\"looping...{count}\")\n",
        "  count +=1\n",
        "  #break\n"
      ]
    },
    {
      "cell_type": "code",
      "source": [
        "import time\n",
        "second = 5\n",
        "while second > 0:\n",
        "  print(second)\n",
        "  time.sleep(1)\n",
        "  second -= 1\n",
        "print(\" time's up!\")\n"
      ],
      "metadata": {
        "colab": {
          "base_uri": "https://localhost:8080/"
        },
        "id": "AwqIyrhqbWxR",
        "outputId": "6f517b6c-d0e1-4f6a-9e7b-a2bfc96a0cb8"
      },
      "execution_count": null,
      "outputs": [
        {
          "output_type": "stream",
          "name": "stdout",
          "text": [
            "5\n",
            "4\n",
            "3\n",
            "2\n",
            "1\n",
            " time's up!\n"
          ]
        }
      ]
    }
  ]
}