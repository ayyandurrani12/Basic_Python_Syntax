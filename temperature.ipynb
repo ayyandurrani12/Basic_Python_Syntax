{
  "nbformat": 4,
  "nbformat_minor": 0,
  "metadata": {
    "colab": {
      "provenance": [],
      "toc_visible": true,
      "name": "temperature",
      "authorship_tag": "ABX9TyNHnN1eYojbNzMgu6iDboiD",
      "include_colab_link": true
    },
    "kernelspec": {
      "name": "python3",
      "display_name": "Python 3"
    },
    "language_info": {
      "name": "python"
    }
  },
  "cells": [
    {
      "cell_type": "markdown",
      "metadata": {
        "id": "view-in-github",
        "colab_type": "text"
      },
      "source": [
        "<a href=\"https://colab.research.google.com/github/ayyandurrani12/Basic_Python_Syntax/blob/main/temperature.ipynb\" target=\"_parent\"><img src=\"https://colab.research.google.com/assets/colab-badge.svg\" alt=\"Open In Colab\"/></a>"
      ]
    },
    {
      "cell_type": "code",
      "execution_count": null,
      "metadata": {
        "colab": {
          "base_uri": "https://localhost:8080/"
        },
        "id": "5D9vCIDJP7Of",
        "outputId": "13cce721-0733-404a-c4d5-dbe5351b0e79"
      },
      "outputs": [
        {
          "output_type": "stream",
          "name": "stdout",
          "text": [
            "ente temperature in celsius5\n",
            "5.00degree celsius is equal to 41.00digree fahrenhit.\n",
            "enter your nameAyyan\n",
            "enter your age15\n",
            "Ayyan\n",
            "15\n",
            "enter your email:sardarayyandurrani@gmail.com\n",
            "enter your school nameCBQ\n",
            "CBQ\n",
            "['black mail']\n"
          ]
        }
      ],
      "source": [
        "celsius = float(input(\"ente temperature in celsius\"))\n",
        "fahrenheit = (celsius*9/5) + 32\n",
        "print(f\"{celsius:.2f}degree celsius is equal to {fahrenheit:.2f}digree fahrenhit.\")\n",
        "\n",
        "name = input(\"enter your name\")\n",
        "age = input(\"enter your age\")\n",
        "print(name)\n",
        "print(age)\n",
        "emial = (input(\"enter your email:\"))\n",
        "school = (input(\"enter your school name\"))\n",
        "print(school)\n",
        "Fav_movie = [\"black mail\"]\n",
        "print(Fav_movie)\n",
        "\n"
      ]
    },
    {
      "cell_type": "code",
      "source": [],
      "metadata": {
        "id": "lLctyQp3gRo-"
      },
      "execution_count": null,
      "outputs": []
    }
  ]
}